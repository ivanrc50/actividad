{
  "nbformat": 4,
  "nbformat_minor": 0,
  "metadata": {
    "colab": {
      "provenance": [],
      "authorship_tag": "ABX9TyNsCHM9hoSlrxO5I8l16lZE",
      "include_colab_link": true
    },
    "kernelspec": {
      "name": "python3",
      "display_name": "Python 3"
    },
    "language_info": {
      "name": "python"
    }
  },
  "cells": [
    {
      "cell_type": "markdown",
      "metadata": {
        "id": "view-in-github",
        "colab_type": "text"
      },
      "source": [
        "<a href=\"https://colab.research.google.com/github/ivanrc50/actividad/blob/main/Untitled7.ipynb\" target=\"_parent\"><img src=\"https://colab.research.google.com/assets/colab-badge.svg\" alt=\"Open In Colab\"/></a>"
      ]
    },
    {
      "cell_type": "markdown",
      "source": [
        "\n",
        "Actividad\n",
        "\n",
        "Fecha: 03 de Marzo de 2024\n",
        "\n",
        "Presentado por: ivan dario ramos calao\n",
        "\n",
        "Email: ivan.ramos@upb.edu.co\n",
        "\n",
        "ID:000534128"
      ],
      "metadata": {
        "id": "WiiQ3dzyhglc"
      }
    },
    {
      "cell_type": "code",
      "execution_count": 11,
      "metadata": {
        "colab": {
          "base_uri": "https://localhost:8080/"
        },
        "id": "8N6QLXXkby1c",
        "outputId": "c62fcaf6-c15c-48b7-dcea-659fe50969fb"
      },
      "outputs": [
        {
          "output_type": "stream",
          "name": "stdout",
          "text": [
            "Employee with ID 1 added successfully  \n",
            "Employee with ID 2 added successfully  \n",
            "Employee with ID 3 added successfully  \n",
            "Employee with ID 4 added successfully  \n",
            "# Attendees to the meeting: 4\n",
            "\n",
            "My name is vitola and I work for Ajonjofeel\n",
            "My id is 1\n",
            "\n",
            "My name is None and I work for Ajonjofeel\n",
            "My id is 2\n",
            "\n",
            "My name is messi and I work for Ajonjofeel\n",
            "My id is 3\n",
            "I am an Admin\n",
            "Username: 3\n",
            "Role: Admin\n",
            "\n",
            "My name is cr7¡siuu¡ and I work for Ajonjofeel\n",
            "I am in charge.\n",
            "My id is 4\n",
            "I am an Admin\n",
            "Username: 4\n",
            "Role: Admin\n",
            "_vitola deleted\n"
          ]
        }
      ],
      "source": [
        "\n",
        "from abc import ABC, abstractmethod\n",
        "\n",
        "class AbstractEmployee(ABC):\n",
        "    new_id = 1\n",
        "\n",
        "    def __init__(self):\n",
        "        self.id = AbstractEmployee.new_id\n",
        "        AbstractEmployee.new_id += 1\n",
        "\n",
        "    @abstractmethod\n",
        "    def say_id(self):\n",
        "        pass\n",
        "\n",
        "\n",
        "class Employee(AbstractEmployee):\n",
        "    new_id = 1\n",
        "\n",
        "    def __init__(self, name=None):\n",
        "        super().__init__()\n",
        "        self.__company = \"Ajonjofeel\"\n",
        "        self._name = name\n",
        "\n",
        "    def say_id(self):\n",
        "        print(\"My id is\", self.id)\n",
        "\n",
        "    def get_name(self):\n",
        "        return self._name\n",
        "\n",
        "    def set_name(self, name):\n",
        "        self._name = name\n",
        "\n",
        "    def del_name(self):\n",
        "        print(f\"_{self._name} deleted\")\n",
        "        del self._name\n",
        "\n",
        "\n",
        "class User:\n",
        "    def __init__(self, username, role):\n",
        "        self.username = username\n",
        "        self.role = role\n",
        "\n",
        "    def say_user_info(self):\n",
        "        print(\"Username:\", self.username)\n",
        "        print(\"Role:\", self.role)\n",
        "\n",
        "\n",
        "class Admin(Employee, User):\n",
        "    def __init__(self, name=None):\n",
        "        super().__init__(name)\n",
        "        User.__init__(self, self.id, \"Admin\")\n",
        "\n",
        "    def say_id(self):\n",
        "        super().say_id()\n",
        "        print(\"I am an Admin\")\n",
        "\n",
        "\n",
        "class Manager(Admin):\n",
        "    def say_id(self):\n",
        "        print(\"I am in charge.\")\n",
        "        super().say_id()\n",
        "\n",
        "class Meeting:\n",
        "    def __init__(self):\n",
        "        self.attendees = []\n",
        "\n",
        "    def __add__(self, other):\n",
        "        self.attendees.append(other)\n",
        "        print(\"Employee with ID\",other.id,\"added successfully  \")\n",
        "        return self\n",
        "\n",
        "    def __len__(self):\n",
        "        return len(self.attendees)\n",
        "\n",
        "\n",
        "#ivan testing code\n",
        "e1 = Employee()\n",
        "e2 = Employee()\n",
        "e3 = Admin(\"messi\")\n",
        "e4 = Manager(\"cr7¡siuu¡\")\n",
        "\n",
        "m1 = Meeting()\n",
        "m1 + e1\n",
        "m1 + e2\n",
        "m1 + e3\n",
        "m1 + e4\n",
        "print(f\"# Attendees to the meeting: {len(m1)}\")\n",
        "e1.set_name(\"vitola\")\n",
        "for e in m1.attendees:\n",
        "  print(f\"\\nMy name is {e.get_name()} and I work for {e._Employee__company}\")\n",
        "  e.say_id()\n",
        "  try:\n",
        "    e.say_user_info()\n",
        "  except AttributeError:\n",
        "    continue\n",
        "e1.del_name()\n",
        "\n"
      ]
    }
  ]
}